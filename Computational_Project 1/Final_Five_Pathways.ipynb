{
 "cells": [
  {
   "cell_type": "code",
   "execution_count": 234,
   "metadata": {},
   "outputs": [],
   "source": [
    "from cobra import Model,Reaction,Metabolite"
   ]
  },
  {
   "cell_type": "code",
   "execution_count": 235,
   "metadata": {},
   "outputs": [],
   "source": [
    "model=Model('E-Coli Five Pathways')"
   ]
  },
  {
   "cell_type": "code",
   "execution_count": 236,
   "metadata": {},
   "outputs": [],
   "source": [
    "acon_C_c=Metabolite(\n",
    "    'acon_C_c',\n",
    "    formula='C6H3O6',\n",
    "    name='Cis-Aconitate',\n",
    "    compartment='c')"
   ]
  },
  {
   "cell_type": "code",
   "execution_count": 237,
   "metadata": {},
   "outputs": [],
   "source": [
    "cit_c=Metabolite(\n",
    "    'cit_c',\n",
    "    formula='C6H5O7',\n",
    "    name='Citrate',\n",
    "    compartment='c')"
   ]
  },
  {
   "cell_type": "code",
   "execution_count": 238,
   "metadata": {},
   "outputs": [],
   "source": [
    "h2o_c=Metabolite(\n",
    "    'h2o_c',\n",
    "    formula='H2O',\n",
    "    name='H2O H2O',\n",
    "    compartment='c')"
   ]
  },
  {
   "cell_type": "code",
   "execution_count": 239,
   "metadata": {},
   "outputs": [],
   "source": [
    "icit_c=Metabolite(\n",
    "    'icit_c',\n",
    "    formula='C6H5O7',\n",
    "    name='Isocitrate',\n",
    "    compartment='c')"
   ]
  },
  {
   "cell_type": "code",
   "execution_count": 240,
   "metadata": {},
   "outputs": [],
   "source": [
    "akg_c=Metabolite(\n",
    "    'akg_c',\n",
    "    formula='C5H4O5',\n",
    "    name='2-Oxoglutarate',\n",
    "    compartment='c')"
   ]
  },
  {
   "cell_type": "code",
   "execution_count": 241,
   "metadata": {},
   "outputs": [],
   "source": [
    "akg_e=Metabolite(\n",
    "    'akg_e',\n",
    "    formula='C5H4O5',\n",
    "    name='2-Oxoglutarate',\n",
    "    compartment='e')"
   ]
  },
  {
   "cell_type": "code",
   "execution_count": 242,
   "metadata": {},
   "outputs": [],
   "source": [
    "co2_c=Metabolite(\n",
    "    'co2_c',\n",
    "    formula='CO2',\n",
    "    name='CO2 CO2',\n",
    "    compartment='c')"
   ]
  },
  {
   "cell_type": "code",
   "execution_count": 243,
   "metadata": {},
   "outputs": [],
   "source": [
    "coa_c=Metabolite(\n",
    "    'coa_c',\n",
    "    formula='C21H32N7O16P3S',\n",
    "    name='Coenzyme A',\n",
    "    compartment='c')"
   ]
  },
  {
   "cell_type": "code",
   "execution_count": 244,
   "metadata": {},
   "outputs": [],
   "source": [
    "nad_c=Metabolite(\n",
    "    'nad_c',\n",
    "    formula='C21H26N7O14P2',\n",
    "    name='Nicotinamide adenine dinucleotide',\n",
    "    compartment='c')"
   ]
  },
  {
   "cell_type": "code",
   "execution_count": 245,
   "metadata": {},
   "outputs": [],
   "source": [
    "nadh_c=Metabolite(\n",
    "    'nadh_c',\n",
    "    formula='C21H27N7O14P2',\n",
    "    name='Nicotinamide adenine dinucleotide - reduced',\n",
    "    compartment='c')\n"
   ]
  },
  {
   "cell_type": "code",
   "execution_count": 246,
   "metadata": {},
   "outputs": [],
   "source": [
    "\n",
    "succoa_c=Metabolite(\n",
    "    'succoa_c',\n",
    "    formula='C25H35N7O19P3S',\n",
    "    name='Succinyl-CoA',\n",
    "    compartment='c')"
   ]
  },
  {
   "cell_type": "code",
   "execution_count": 247,
   "metadata": {},
   "outputs": [],
   "source": [
    "adp_c=Metabolite(\n",
    "    'adp_c',\n",
    "    formula='C10H12N5O10P2',\n",
    "    name='ADP C10H12N5O10P2',\n",
    "    compartment='c')"
   ]
  },
  {
   "cell_type": "code",
   "execution_count": 248,
   "metadata": {},
   "outputs": [],
   "source": [
    "\n",
    "atp_c=Metabolite(\n",
    "    'atp_c',\n",
    "    formula='C10H12N5O13P3',\n",
    "    name='ATP C10H12N5O13P3',\n",
    "    compartment='c')"
   ]
  },
  {
   "cell_type": "code",
   "execution_count": 249,
   "metadata": {},
   "outputs": [],
   "source": [
    "h_c=Metabolite(\n",
    "    'h_c',\n",
    "    formula='H',\n",
    "    name='H+',\n",
    "    compartment='c')"
   ]
  },
  {
   "cell_type": "code",
   "execution_count": 250,
   "metadata": {},
   "outputs": [],
   "source": [
    "pi_c=Metabolite(\n",
    "    'pi_c',\n",
    "    formula='HO4P',\n",
    "    name='Phosphate',\n",
    "    compartment='c')"
   ]
  },
  {
   "cell_type": "code",
   "execution_count": 251,
   "metadata": {},
   "outputs": [],
   "source": [
    "h_e=Metabolite(\n",
    "    'h_e',\n",
    "    formula='H',\n",
    "    name='H+',\n",
    "    compartment='e')"
   ]
  },
  {
   "cell_type": "code",
   "execution_count": 252,
   "metadata": {},
   "outputs": [],
   "source": [
    "_3pg_c=Metabolite(\n",
    "    '_3pg_c',\n",
    "    formula='C3H4O7P',\n",
    "    name='3-Phospho-D-glycerate',\n",
    "    compartment='c')"
   ]
  },
  {
   "cell_type": "code",
   "execution_count": 253,
   "metadata": {},
   "outputs": [],
   "source": [
    "accoa_c=Metabolite(\n",
    "    'accoa_c',\n",
    "    formula='C23H34N7O17P3S',\n",
    "    name='Acetyl-CoA',\n",
    "    compartment='c')"
   ]
  },
  {
   "cell_type": "code",
   "execution_count": 254,
   "metadata": {},
   "outputs": [],
   "source": [
    "f6p_c=Metabolite(\n",
    "    'f6p_c',\n",
    "    formula='C6H11O9P',\n",
    "    name='D-Fructose 6-phosphate',\n",
    "    compartment='c')"
   ]
  },
  {
   "cell_type": "code",
   "execution_count": 255,
   "metadata": {},
   "outputs": [],
   "source": [
    "e4p_c=Metabolite(\n",
    "    'e4p_c',\n",
    "    formula='C4H7O7P',\n",
    "    name='D-Erythrose 4-phosphate',\n",
    "    compartment='c')"
   ]
  },
  {
   "cell_type": "code",
   "execution_count": 256,
   "metadata": {},
   "outputs": [],
   "source": [
    "g3p_c=Metabolite(\n",
    "    'g3p_c',\n",
    "    formula='C3H5O6P',\n",
    "    name='Glyceraldehyde 3-phosphate',\n",
    "    compartment='c')"
   ]
  },
  {
   "cell_type": "code",
   "execution_count": 257,
   "metadata": {},
   "outputs": [],
   "source": [
    "\n",
    "g6p_c=Metabolite(\n",
    "    'g6p_c',\n",
    "    formula='C6H11O9P',\n",
    "    name='D-Glucose 6-phosphate',\n",
    "    compartment='c')"
   ]
  },
  {
   "cell_type": "code",
   "execution_count": 258,
   "metadata": {},
   "outputs": [],
   "source": [
    "gln__L_c=Metabolite(\n",
    "    'gln__L_c',\n",
    "    formula='C5H10N2O3',\n",
    "    name='L-Glutamine',\n",
    "    compartment='c')"
   ]
  },
  {
   "cell_type": "code",
   "execution_count": 259,
   "metadata": {},
   "outputs": [],
   "source": [
    "\n",
    "glu__L_c=Metabolite(\n",
    "    'glu__L_c',\n",
    "    formula='C5H8NO4',\n",
    "    name='L-Glutamate',\n",
    "    compartment='c')"
   ]
  },
  {
   "cell_type": "code",
   "execution_count": 260,
   "metadata": {},
   "outputs": [],
   "source": [
    "\n",
    "nadp_c=Metabolite(\n",
    "    'nadp_c',\n",
    "    formula='C21H25N7O17P3',\n",
    "    name='Nicotinamide adenine dinucleotide phosphate',\n",
    "    compartment='c')"
   ]
  },
  {
   "cell_type": "code",
   "execution_count": 261,
   "metadata": {},
   "outputs": [],
   "source": [
    "nadph_c=Metabolite(\n",
    "    'nadph_c',\n",
    "    formula='C21H26N7O17P3',\n",
    "    name='Nicotinamide adenine dinucleotide phosphate - reduced',\n",
    "    compartment='c')"
   ]
  },
  {
   "cell_type": "code",
   "execution_count": 262,
   "metadata": {},
   "outputs": [],
   "source": [
    "oaa_c=Metabolite(\n",
    "    'oaa_c',\n",
    "    formula='C4H2O5',\n",
    "    name='Oxaloacetate',\n",
    "    compartment='c')"
   ]
  },
  {
   "cell_type": "code",
   "execution_count": 263,
   "metadata": {},
   "outputs": [],
   "source": [
    "pep_c=Metabolite(\n",
    "    'pep_c',\n",
    "    formula='C3H2O6P',\n",
    "    name='Phosphoenolpyruvate',\n",
    "    compartment='c')"
   ]
  },
  {
   "cell_type": "code",
   "execution_count": 264,
   "metadata": {},
   "outputs": [],
   "source": [
    "pyr_c=Metabolite(\n",
    "    'pyr_c',\n",
    "    formula='C3H3O3',\n",
    "    name='Pyruvate',\n",
    "    compartment='c')"
   ]
  },
  {
   "cell_type": "code",
   "execution_count": 265,
   "metadata": {},
   "outputs": [],
   "source": [
    "r5p_c=Metabolite(\n",
    "    'r5p_c',\n",
    "    formula='C5H9O8P',\n",
    "    name='Alpha-D-Ribose 5-phosphate',\n",
    "    compartment='c')"
   ]
  },
  {
   "cell_type": "code",
   "execution_count": 266,
   "metadata": {},
   "outputs": [],
   "source": [
    "co2_e=Metabolite(\n",
    "    'co2_e',\n",
    "    formula='CO2',\n",
    "    name='CO2 CO2',\n",
    "    compartment='e')"
   ]
  },
  {
   "cell_type": "code",
   "execution_count": 267,
   "metadata": {},
   "outputs": [],
   "source": [
    "o2_c=Metabolite(\n",
    "    'o2_c',\n",
    "    formula='O2',\n",
    "    name='O2 O2',\n",
    "    compartment='c')"
   ]
  },
  {
   "cell_type": "code",
   "execution_count": 268,
   "metadata": {},
   "outputs": [],
   "source": [
    "q8h2_c=Metabolite(\n",
    "    'q8h2_c',\n",
    "    formula='C49H76O4',\n",
    "    name='Ubiquinol-8',\n",
    "    compartment='c')"
   ]
  },
  {
   "cell_type": "code",
   "execution_count": 269,
   "metadata": {},
   "outputs": [],
   "source": [
    "q8_c=Metabolite(\n",
    "    'q8_c',\n",
    "    formula='C49H74O4',\n",
    "    name='Ubiquinone-8',\n",
    "    compartment='c')"
   ]
  },
  {
   "cell_type": "code",
   "execution_count": 270,
   "metadata": {},
   "outputs": [],
   "source": [
    "_2pg_c=Metabolite(\n",
    "    '_2pg_c',\n",
    "    formula='C3H4O7P',\n",
    "    name='D-Glycerate 2-phosphate',\n",
    "    compartment='c')"
   ]
  },
  {
   "cell_type": "code",
   "execution_count": 271,
   "metadata": {},
   "outputs": [],
   "source": [
    "\n",
    "glc__D_e=Metabolite(\n",
    "    'glc__D_e',\n",
    "    formula='C6H12O6',\n",
    "    name='D-Glucose',\n",
    "    compartment='e')"
   ]
  },
  {
   "cell_type": "code",
   "execution_count": 272,
   "metadata": {},
   "outputs": [],
   "source": [
    "h2o_e=Metabolite(\n",
    "    'h2o_e',\n",
    "    formula='H2O',\n",
    "    name='H2O H2O',\n",
    "    compartment='e')"
   ]
  },
  {
   "cell_type": "code",
   "execution_count": 273,
   "metadata": {},
   "outputs": [],
   "source": [
    "nh4_e=Metabolite(\n",
    "    'nh4_e',\n",
    "    formula='H4N',\n",
    "    name='Ammonium',\n",
    "    compartment='e')"
   ]
  },
  {
   "cell_type": "code",
   "execution_count": 274,
   "metadata": {},
   "outputs": [],
   "source": [
    "o2_e=Metabolite(\n",
    "    'o2_e',\n",
    "    formula='O2',\n",
    "    name='O2 O2',\n",
    "    compartment='e')"
   ]
  },
  {
   "cell_type": "code",
   "execution_count": 275,
   "metadata": {},
   "outputs": [],
   "source": [
    "\n",
    "dhap_c=Metabolite(\n",
    "    'dhap_c',\n",
    "    formula='C3H5O6P',\n",
    "    name='Dihydroxyacetone phosphate',\n",
    "    compartment='c')"
   ]
  },
  {
   "cell_type": "code",
   "execution_count": 276,
   "metadata": {},
   "outputs": [],
   "source": [
    "\n",
    "pi_e=Metabolite(\n",
    "    'pi_e',\n",
    "    formula='HO4P',\n",
    "    name='Phosphate',\n",
    "    compartment='e')"
   ]
  },
  {
   "cell_type": "code",
   "execution_count": 277,
   "metadata": {},
   "outputs": [],
   "source": [
    "fum_c=Metabolite(\n",
    "    'fum_c',\n",
    "    formula='C4H2O4',\n",
    "    name='Fumarate',\n",
    "    compartment='c')"
   ]
  },
  {
   "cell_type": "code",
   "execution_count": 278,
   "metadata": {},
   "outputs": [],
   "source": [
    "fdp_c=Metabolite(\n",
    "    'fdp_c',\n",
    "    formula='C6H10O12P2',\n",
    "    name='D-Fructose 1,6-bisphosphate',\n",
    "    compartment='c')\n"
   ]
  },
  {
   "cell_type": "code",
   "execution_count": 279,
   "metadata": {},
   "outputs": [],
   "source": [
    "mal__L_c=Metabolite(\n",
    "    'mal__L_c',\n",
    "    formula='C4H4O5',\n",
    "    name='L-Malate',\n",
    "    compartment='c')"
   ]
  },
  {
   "cell_type": "code",
   "execution_count": 280,
   "metadata": {},
   "outputs": [],
   "source": [
    "_13dpg_c=Metabolite(\n",
    "    '_13dpg_c',\n",
    "    formula='C3H4O10P2',\n",
    "    name='3-Phospho-D-glyceroyl phosphate',\n",
    "    compartment='c')"
   ]
  },
  {
   "cell_type": "code",
   "execution_count": 281,
   "metadata": {},
   "outputs": [],
   "source": [
    "_6pgl_c=Metabolite(\n",
    "    '_6pgl_c',\n",
    "    formula='C6H9O9P',\n",
    "    name='6-phospho-D-glucono-1,5-lactone',\n",
    "    compartment='c')"
   ]
  },
  {
   "cell_type": "code",
   "execution_count": 282,
   "metadata": {},
   "outputs": [],
   "source": [
    "nh4_c=Metabolite(\n",
    "    'nh4_c',\n",
    "    formula='H4N',\n",
    "    name='Ammonium',\n",
    "    compartment='c')"
   ]
  },
  {
   "cell_type": "code",
   "execution_count": 283,
   "metadata": {},
   "outputs": [],
   "source": [
    "ru5p__D_c=Metabolite(\n",
    "    'ru5p__D_c',\n",
    "    formula='C5H9O8P',\n",
    "    name='D-Ribulose 5-phosphate',\n",
    "    compartment='c')"
   ]
  },
  {
   "cell_type": "code",
   "execution_count": 284,
   "metadata": {},
   "outputs": [],
   "source": [
    "_6pgc_c=Metabolite(\n",
    "    '_6pgc_c',\n",
    "    formula='C6H10O10P',\n",
    "    name='6-Phospho-D-gluconate',\n",
    "    compartment='c')"
   ]
  },
  {
   "cell_type": "code",
   "execution_count": 285,
   "metadata": {},
   "outputs": [],
   "source": [
    "xu5p__D_c=Metabolite(\n",
    "    'xu5p__D_c',\n",
    "    formula='C5H9O8P',\n",
    "    name='D-Xylulose 5-phosphate',\n",
    "    compartment='c')"
   ]
  },
  {
   "cell_type": "code",
   "execution_count": 286,
   "metadata": {},
   "outputs": [],
   "source": [
    "ru5p__D_c=Metabolite(\n",
    "    'ru5p__D_c',\n",
    "    formula='C5H9O8P',\n",
    "    name='D-Ribulose 5-phosphate',\n",
    "    compartment='c')"
   ]
  },
  {
   "cell_type": "code",
   "execution_count": 287,
   "metadata": {},
   "outputs": [],
   "source": [
    "succ_c=Metabolite(\n",
    "    'succ_c',\n",
    "    formula='C4H4O4',\n",
    "    name='Succinate',\n",
    "    compartment='c')"
   ]
  },
  {
   "cell_type": "code",
   "execution_count": 288,
   "metadata": {},
   "outputs": [],
   "source": [
    "s7p_c=Metabolite(\n",
    "    's7p_c',\n",
    "    formula='C7H13O10P',\n",
    "    name='Sedoheptulose 7-phosphate',\n",
    "    compartment='c')"
   ]
  },
  {
   "cell_type": "code",
   "execution_count": 289,
   "metadata": {},
   "outputs": [],
   "source": [
    "acald_c=Metabolite(\n",
    "    'acald_c',\n",
    "    formula='C2H4O',\n",
    "    name='Acetaldehyde',\n",
    "    compartment='c')"
   ]
  },
  {
   "cell_type": "code",
   "execution_count": 290,
   "metadata": {},
   "outputs": [],
   "source": [
    "acald_e=Metabolite(\n",
    "    'acald_e',\n",
    "    formula='C2H4O',\n",
    "    name='Acetaldehyde',\n",
    "    compartment='e')"
   ]
  },
  {
   "cell_type": "code",
   "execution_count": 291,
   "metadata": {},
   "outputs": [],
   "source": [
    "ac_c=Metabolite(\n",
    "    'ac_c',\n",
    "    formula='C2H3O2',\n",
    "    name='Acetate',\n",
    "    compartment='c')"
   ]
  },
  {
   "cell_type": "code",
   "execution_count": 292,
   "metadata": {},
   "outputs": [],
   "source": [
    "ac_e=Metabolite(\n",
    "    'ac_e',\n",
    "    formula='C2H3O2',\n",
    "    name='Acetate',\n",
    "    compartment='e')"
   ]
  },
  {
   "cell_type": "code",
   "execution_count": 293,
   "metadata": {},
   "outputs": [],
   "source": [
    "actp_c=Metabolite(\n",
    "    'actp_c',\n",
    "    formula='C2H3O5P',\n",
    "    name='Acetyl phosphate',\n",
    "    compartment='c')"
   ]
  },
  {
   "cell_type": "code",
   "execution_count": 294,
   "metadata": {},
   "outputs": [],
   "source": [
    "amp_c=Metabolite(\n",
    "    'amp_c',\n",
    "    formula='C10H12N5O7P',\n",
    "    name='AMP C10H12N5O7P',\n",
    "    compartment='c')"
   ]
  },
  {
   "cell_type": "code",
   "execution_count": 295,
   "metadata": {},
   "outputs": [],
   "source": [
    "etoh_c=Metabolite(\n",
    "    'etoh_c',\n",
    "    formula='C2H6O',\n",
    "    name='Ethanol',\n",
    "    compartment='c')"
   ]
  },
  {
   "cell_type": "code",
   "execution_count": 296,
   "metadata": {},
   "outputs": [],
   "source": [
    "#1      Citric Acid Cycle  "
   ]
  },
  {
   "cell_type": "code",
   "execution_count": 297,
   "metadata": {},
   "outputs": [],
   "source": [
    "ACONTa=Reaction('ACONTa') ##### cit_c ⇌ acon_C_c + h2o_c\n",
    "ACONTa.name='Aconitase (half-reaction A, Citrate hydro-lyase)'\n",
    "ACONTa.lower_bound=-1000\n",
    "ACONTa.upper_bound=1000"
   ]
  },
  {
   "cell_type": "code",
   "execution_count": 298,
   "metadata": {},
   "outputs": [],
   "source": [
    "ACONTa.add_metabolites({cit_c:-1,acon_C_c:1,h2o_c:1})"
   ]
  },
  {
   "cell_type": "code",
   "execution_count": 299,
   "metadata": {},
   "outputs": [],
   "source": [
    "#2         Citric Acid Cycle"
   ]
  },
  {
   "cell_type": "code",
   "execution_count": 300,
   "metadata": {},
   "outputs": [],
   "source": [
    "ACONTb=Reaction('ACONTb') ##### acon_C_c + h2o_c ⇌ icit_c\n",
    "ACONTb.name='Aconitase (half-reaction B, Isocitrate hydro-lyase)'\n",
    "ACONTb.lower_bound=-1000\n",
    "ACONTb.upper_bound=1000"
   ]
  },
  {
   "cell_type": "code",
   "execution_count": 301,
   "metadata": {},
   "outputs": [],
   "source": [
    "ACONTb.add_metabolites({acon_C_c:-1,h2o_c:-1,icit_c:1})"
   ]
  },
  {
   "cell_type": "code",
   "execution_count": 302,
   "metadata": {},
   "outputs": [],
   "source": [
    "#3         Citric Acid Cycle"
   ]
  },
  {
   "cell_type": "code",
   "execution_count": 303,
   "metadata": {},
   "outputs": [],
   "source": [
    "AKGDH=Reaction('AKGDH') ##### akg_c + coa_c + nad_c ⇌ co2_c + nadh_c + succoa_c\n",
    "AKGDH.name='2-Oxogluterate dehydrogenase'\n",
    "AKGDH.lower_bound=0\n",
    "AKGDH.upper_bound=1000"
   ]
  },
  {
   "cell_type": "code",
   "execution_count": 304,
   "metadata": {},
   "outputs": [],
   "source": [
    "AKGDH.add_metabolites({akg_c:-1,coa_c:-1,nad_c:-1,co2_c:1,nadh_c:1,succoa_c:1})"
   ]
  },
  {
   "cell_type": "code",
   "execution_count": 305,
   "metadata": {},
   "outputs": [],
   "source": [
    "#4     Oxidative Phosphorylation       "
   ]
  },
  {
   "cell_type": "code",
   "execution_count": 306,
   "metadata": {},
   "outputs": [],
   "source": [
    "ATPM=Reaction('ATPM') ##### atp_c + h2o_c ⇌ adp_c + h_c + pi_c\n",
    "ATPM.name='ATP maintenance requirement'\n",
    "ATPM.lower_bound=8.39\n",
    "ATPM.upper_bound=1000"
   ]
  },
  {
   "cell_type": "code",
   "execution_count": 307,
   "metadata": {},
   "outputs": [],
   "source": [
    "ATPM.add_metabolites({atp_c:-1,h2o_c:-1,adp_c:1,h_c:1,pi_c:1})"
   ]
  },
  {
   "cell_type": "code",
   "execution_count": 308,
   "metadata": {},
   "outputs": [],
   "source": [
    "#5                 Oxidative Phosphorylation"
   ]
  },
  {
   "cell_type": "code",
   "execution_count": 309,
   "metadata": {},
   "outputs": [],
   "source": [
    "ATPS4r=Reaction('ATPS4r') ##### adp_c + pi_c + 4.0 h_e ⇌ atp_c + 3.0 h_c + h2o_c\n",
    "ATPS4r.name='ATP synthase (four protons for one ATP)'\n",
    "ATPS4r.lower_bound=-1000\n",
    "ATPS4r.upper_bound=1000"
   ]
  },
  {
   "cell_type": "code",
   "execution_count": 310,
   "metadata": {},
   "outputs": [],
   "source": [
    "ATPS4r.add_metabolites({adp_c:-1,pi_c:-1,h_e:-4,atp_c:1,h_c:3,h2o_c:1})"
   ]
  },
  {
   "cell_type": "code",
   "execution_count": 311,
   "metadata": {},
   "outputs": [],
   "source": [
    "#6                  Biomass and maintenance functions"
   ]
  },
  {
   "cell_type": "code",
   "execution_count": 312,
   "metadata": {},
   "outputs": [],
   "source": [
    "BIOMASS_Ecoli=Reaction('BIOMASS_Ecoli') ##### 1.496 3pg_c + 3.7478 accoa_c + 59.81 atp_c + 0.361 e4p_c + 0.0709 f6p_c + 0.129 g3p_c + 0.205 g6p_c + 0.2557 gln__L_c + 4.9414 glu__L_c + 59.81 h2o_c + 3.547 nad_c + 13.0279 nadph_c + 1.7867 oaa_c + 0.5191 pep_c + 2.8328 pyr_c + 0.8977 r5p_c ⇌ 59.81 adp_c + 4.1182 akg_c + 3.7478 coa_c + 59.81 h_c + 3.547 nadh_c + 13.0279 nadp_c + 59.81 pi_c\n",
    "BIOMASS_Ecoli.name='Biomass Objective Function with GAM'\n",
    "BIOMASS_Ecoli.lower_bound=0\n",
    "BIOMASS_Ecoli.upper_bound=1000"
   ]
  },
  {
   "cell_type": "code",
   "execution_count": 313,
   "metadata": {},
   "outputs": [],
   "source": [
    "BIOMASS_Ecoli.add_metabolites({_3pg_c:-1.496,accoa_c:-3.7478,atp_c:-59.81,e4p_c:-0.361,f6p_c:-0.0709,g3p_c:-0.129,g6p_c:-0.205,gln__L_c:-0.2557,glu__L_c:-4.9414,h2o_c:-59.81,nad_c:-3.547,nadph_c:-13.0279,oaa_c:-1.7867,pep_c:-0.5191,pyr_c:-2.8328,r5p_c:-0.8977,adp_c:59.81,akg_c:4.1182,coa_c:3.7478,h_c:59.81,nadh_c:3.547,nadp_c:13.0279,pi_c:59.81})"
   ]
  },
  {
   "cell_type": "code",
   "execution_count": 314,
   "metadata": {},
   "outputs": [],
   "source": [
    "#7                Transport, Extracellular"
   ]
  },
  {
   "cell_type": "code",
   "execution_count": 315,
   "metadata": {},
   "outputs": [],
   "source": [
    "CO2t=Reaction(\"CO2t\")\n",
    "CO2t.name=\"CO2 transporter via diffusion\"\n",
    "CO2t.lower_bound=-1000\n",
    "CO2t.upper_bound=1000"
   ]
  },
  {
   "cell_type": "code",
   "execution_count": 316,
   "metadata": {},
   "outputs": [],
   "source": [
    "CO2t.add_metabolites({co2_e:-1,co2_c:1})"
   ]
  },
  {
   "cell_type": "code",
   "execution_count": 317,
   "metadata": {},
   "outputs": [],
   "source": [
    "#8                 Citric Acid Cycle"
   ]
  },
  {
   "cell_type": "code",
   "execution_count": 318,
   "metadata": {},
   "outputs": [],
   "source": [
    "CS=Reaction('CS') ##### accoa_c + h2o_c + oaa_c ⇌ cit_c + coa_c + h_c\n",
    "CS.name='Citrate synthase'\n",
    "CS.lower_bound=0\n",
    "CS.upper_bound=1000\n"
   ]
  },
  {
   "cell_type": "code",
   "execution_count": 319,
   "metadata": {},
   "outputs": [],
   "source": [
    "CS.add_metabolites({accoa_c:-1,h2o_c:-1,oaa_c:-1,cit_c:1,coa_c:1,h_c:1})"
   ]
  },
  {
   "cell_type": "code",
   "execution_count": 320,
   "metadata": {},
   "outputs": [],
   "source": [
    "#9                Oxidative Phosphorylation"
   ]
  },
  {
   "cell_type": "code",
   "execution_count": 321,
   "metadata": {},
   "outputs": [],
   "source": [
    "CYTBD=Reaction('CYTBD') ##### 2.0 h_c + 0.5 o2_c + q8h2_c ⇌ h2o_c + q8_c + 2.0 h_e\n",
    "CYTBD.name='Cytochrome oxidase bd (ubiquinol-8: 2 protons)'\n",
    "CYTBD.lower_bound=0\n",
    "CYTBD.upper_bound=1000"
   ]
  },
  {
   "cell_type": "code",
   "execution_count": 322,
   "metadata": {},
   "outputs": [],
   "source": [
    "CYTBD.add_metabolites({h_c:-2,o2_c:-0.5,q8h2_c:-1,h2o_c:1,q8_c:1,h_e:2})"
   ]
  },
  {
   "cell_type": "code",
   "execution_count": 323,
   "metadata": {},
   "outputs": [],
   "source": [
    "#10           Glycolysis/Gluconeogenesis"
   ]
  },
  {
   "cell_type": "code",
   "execution_count": 324,
   "metadata": {},
   "outputs": [],
   "source": [
    "ENO=Reaction('ENO') ##### 2pg_c ⇌ h2o_c + pep_c\n",
    "ENO.name='Enolase'\n",
    "ENO.lower_bound=-1000\n",
    "ENO.upper_bound=1000"
   ]
  },
  {
   "cell_type": "code",
   "execution_count": 325,
   "metadata": {},
   "outputs": [],
   "source": [
    "ENO.add_metabolites({_2pg_c:-1,h2o_c:1,pep_c:1})"
   ]
  },
  {
   "cell_type": "code",
   "execution_count": 326,
   "metadata": {},
   "outputs": [],
   "source": [
    "#11                Extracellular exchange"
   ]
  },
  {
   "cell_type": "code",
   "execution_count": 327,
   "metadata": {},
   "outputs": [],
   "source": [
    "EX_co2=Reaction('EX_co2') ##### co2_e ⇌\n",
    "EX_co2.name='CO2 exchange'\n",
    "EX_co2.lower_bound=-1000\n",
    "EX_co2.upper_bound=1000"
   ]
  },
  {
   "cell_type": "code",
   "execution_count": 328,
   "metadata": {},
   "outputs": [],
   "source": [
    "EX_co2.add_metabolites({co2_e:-1})"
   ]
  },
  {
   "cell_type": "code",
   "execution_count": 329,
   "metadata": {},
   "outputs": [],
   "source": [
    "#12            Extracellular exchange"
   ]
  },
  {
   "cell_type": "code",
   "execution_count": 330,
   "metadata": {},
   "outputs": [],
   "source": [
    "EX_glc_D=Reaction('EX_glc_D') ##### glc__D_e ⇌\n",
    "EX_glc_D.name='D-Glucose exchange'\n",
    "EX_glc_D.lower_bound=-10\n",
    "EX_glc_D.upper_bound=1000"
   ]
  },
  {
   "cell_type": "code",
   "execution_count": 331,
   "metadata": {},
   "outputs": [],
   "source": [
    "EX_glc_D.add_metabolites({glc__D_e:-1})"
   ]
  },
  {
   "cell_type": "code",
   "execution_count": 332,
   "metadata": {},
   "outputs": [],
   "source": [
    "#13    Extracellular exchange"
   ]
  },
  {
   "cell_type": "code",
   "execution_count": 333,
   "metadata": {},
   "outputs": [],
   "source": [
    "\n",
    "EX_h=Reaction('EX_h') ##### h_e ⇌\n",
    "EX_h.name='H+ exchange'\n",
    "EX_h.lower_bound=-1000\n",
    "EX_h.upper_bound=1000"
   ]
  },
  {
   "cell_type": "code",
   "execution_count": 334,
   "metadata": {},
   "outputs": [],
   "source": [
    "EX_h.add_metabolites({h_e:-1})"
   ]
  },
  {
   "cell_type": "code",
   "execution_count": 335,
   "metadata": {},
   "outputs": [],
   "source": [
    "#14           Extracellular exchange"
   ]
  },
  {
   "cell_type": "code",
   "execution_count": 336,
   "metadata": {},
   "outputs": [],
   "source": [
    "EX_h2o=Reaction('EX_h2o') ##### h2o_e ⇌\n",
    "EX_h2o.name='H2O exchange'\n",
    "EX_h2o.lower_bound=-1000\n",
    "EX_h2o.upper_bound=1000"
   ]
  },
  {
   "cell_type": "code",
   "execution_count": 337,
   "metadata": {},
   "outputs": [],
   "source": [
    "EX_h2o.add_metabolites({h2o_e:-1})"
   ]
  },
  {
   "cell_type": "code",
   "execution_count": 338,
   "metadata": {},
   "outputs": [],
   "source": [
    "#15        Extracellular exchange"
   ]
  },
  {
   "cell_type": "code",
   "execution_count": 339,
   "metadata": {},
   "outputs": [],
   "source": [
    "EX_nh4=Reaction('EX_nh4') ##### nh4_e ⇌    ## Ammonium\n",
    "EX_nh4.name='Ammonia exchange'\n",
    "EX_nh4.lower_bound=-1000\n",
    "EX_nh4.upper_bound=1000"
   ]
  },
  {
   "cell_type": "code",
   "execution_count": 340,
   "metadata": {},
   "outputs": [],
   "source": [
    "EX_nh4.add_metabolites({nh4_e:-1})"
   ]
  },
  {
   "cell_type": "code",
   "execution_count": 341,
   "metadata": {},
   "outputs": [],
   "source": [
    "#16              Extracellular exchange"
   ]
  },
  {
   "cell_type": "code",
   "execution_count": 342,
   "metadata": {},
   "outputs": [],
   "source": [
    "EX_o2=Reaction('EX_o2') ##### o2_e ⇌\n",
    "EX_o2.name='O2 exchange'\n",
    "EX_o2.lower_bound=-1000\n",
    "EX_o2.upper_bound=1000"
   ]
  },
  {
   "cell_type": "code",
   "execution_count": 343,
   "metadata": {},
   "outputs": [],
   "source": [
    "EX_o2.add_metabolites({o2_e:-1})"
   ]
  },
  {
   "cell_type": "code",
   "execution_count": 344,
   "metadata": {},
   "outputs": [],
   "source": [
    "#17              Extracellular exchange"
   ]
  },
  {
   "cell_type": "code",
   "execution_count": 345,
   "metadata": {},
   "outputs": [],
   "source": [
    "EX_pi=Reaction('EX_pi') ##### pi_e ⇌\n",
    "EX_pi.name='Phosphate exchange'\n",
    "EX_pi.lower_bound=-1000\n",
    "EX_pi.upper_bound=1000"
   ]
  },
  {
   "cell_type": "code",
   "execution_count": 346,
   "metadata": {},
   "outputs": [],
   "source": [
    "EX_pi.add_metabolites({pi_e:-1})"
   ]
  },
  {
   "cell_type": "code",
   "execution_count": 347,
   "metadata": {},
   "outputs": [],
   "source": [
    "#18              Glycolysis/Gluconeogenesis"
   ]
  },
  {
   "cell_type": "code",
   "execution_count": 348,
   "metadata": {},
   "outputs": [],
   "source": [
    "FBA=Reaction('FBA')########## FDP <=============> DHAP + G3P\n",
    "FBA.name='Fructose-bisphosphate aldolase'\n",
    "FBA.lower_bound=-1000\n",
    "FBA.upper_bound=1000"
   ]
  },
  {
   "cell_type": "code",
   "execution_count": 349,
   "metadata": {},
   "outputs": [],
   "source": [
    "FBA.add_metabolites({fdp_c:-1,dhap_c:1,g3p_c:1})"
   ]
  },
  {
   "cell_type": "code",
   "execution_count": 350,
   "metadata": {},
   "outputs": [],
   "source": [
    "#19          Citric Acid Cycle"
   ]
  },
  {
   "cell_type": "code",
   "execution_count": 351,
   "metadata": {},
   "outputs": [],
   "source": [
    "FUM=Reaction('FUM')########## fum_c + h2o_c ⇌ mal__L_c\n",
    "FUM.name='Fumarase'\n",
    "FUM.lower_bound=-1000\n",
    "FUM.upper_bound=1000"
   ]
  },
  {
   "cell_type": "code",
   "execution_count": 352,
   "metadata": {},
   "outputs": [],
   "source": [
    "FUM.add_metabolites({fum_c:-1,h2o_c:-1,mal__L_c:1})"
   ]
  },
  {
   "cell_type": "code",
   "execution_count": 353,
   "metadata": {},
   "outputs": [],
   "source": [
    "#20              Pentose Phosphate Pathway"
   ]
  },
  {
   "cell_type": "code",
   "execution_count": 354,
   "metadata": {},
   "outputs": [],
   "source": [
    "G6PDH2r=Reaction('G6PDH2r')########## g6p_c + nadp_c ⇌ 6pgl_c + h_c + nadph_c\n",
    "G6PDH2r.name='Glucose 6-phosphate dehydrogenase'\n",
    "G6PDH2r.lower_bound=-1000\n",
    "G6PDH2r.upper_bound=1000"
   ]
  },
  {
   "cell_type": "code",
   "execution_count": 355,
   "metadata": {},
   "outputs": [],
   "source": [
    "G6PDH2r.add_metabolites({g6p_c:-1,nadp_c:-1,_6pgl_c:1,h_c:1,nadph_c:1})"
   ]
  },
  {
   "cell_type": "code",
   "execution_count": 356,
   "metadata": {},
   "outputs": [],
   "source": [
    "#21                  Glycolysis/Gluconeogenesis"
   ]
  },
  {
   "cell_type": "code",
   "execution_count": 357,
   "metadata": {},
   "outputs": [],
   "source": [
    "GAPD=Reaction('GAPD')########## G3P + NAD + Pi <==========> DPG13 + NADH + H+\n",
    "GAPD.name='Glyceraldehyde 3-phosphate dehydrogenase'\n",
    "GAPD.lower_bound=-1000\n",
    "GAPD.upper_bound=1000\n"
   ]
  },
  {
   "cell_type": "code",
   "execution_count": 358,
   "metadata": {},
   "outputs": [],
   "source": [
    "GAPD.add_metabolites({g3p_c:-1,nad_c:-1,pi_c:-1,_13dpg_c:1,h_c:1,nadh_c:1})"
   ]
  },
  {
   "cell_type": "code",
   "execution_count": 359,
   "metadata": {},
   "outputs": [],
   "source": [
    "#22             Transport, Extracellular"
   ]
  },
  {
   "cell_type": "code",
   "execution_count": 360,
   "metadata": {},
   "outputs": [],
   "source": [
    "GLCpts=Reaction('GLCpts')########## pep_c + glc__D_e ⇌ g6p_c + pyr_c\n",
    "GLCpts.name='D-glucose transport via PEP:Pyr PTS'\n",
    "GLCpts.lower_bound=0\n",
    "GLCpts.upper_bound=1000"
   ]
  },
  {
   "cell_type": "code",
   "execution_count": 361,
   "metadata": {},
   "outputs": [],
   "source": [
    "GLCpts.add_metabolites({pep_c:-1,glc__D_e:-1,g6p_c:1,pyr_c:1})"
   ]
  },
  {
   "cell_type": "code",
   "execution_count": 362,
   "metadata": {},
   "outputs": [],
   "source": [
    "#23                 Glutamate Metabolism"
   ]
  },
  {
   "cell_type": "code",
   "execution_count": 363,
   "metadata": {},
   "outputs": [],
   "source": [
    "GLNS=Reaction('GLNS')########## atp_c + glu__L_c + nh4_c ⇌ adp_c + gln__L_c + h_c + pi_c\n",
    "GLNS.name='Glutamine synthetase'\n",
    "GLNS.lower_bound=0\n",
    "GLNS.upper_bound=1000"
   ]
  },
  {
   "cell_type": "code",
   "execution_count": 364,
   "metadata": {},
   "outputs": [],
   "source": [
    "GLNS.add_metabolites({atp_c:-1,glu__L_c:-1,nh4_c:-1,adp_c:1,gln__L_c:1,h_c:1,pi_c:1})"
   ]
  },
  {
   "cell_type": "code",
   "execution_count": 365,
   "metadata": {},
   "outputs": [],
   "source": [
    "#24              Glutamate Metabolism"
   ]
  },
  {
   "cell_type": "code",
   "execution_count": 366,
   "metadata": {},
   "outputs": [],
   "source": [
    "GLUDy=Reaction('GLUDy')########## glu__L_c + h2o_c + nadp_c ⇌ akg_c + h_c + nadph_c + nh4_c\n",
    "GLUDy.name='Glutamate dehydrogenase (NADP)'\n",
    "GLUDy.lower_bound=-1000\n",
    "GLUDy.upper_bound=1000"
   ]
  },
  {
   "cell_type": "code",
   "execution_count": 367,
   "metadata": {},
   "outputs": [],
   "source": [
    "GLUDy.add_metabolites({glu__L_c:-1,h2o_c:-1,nadp_c:-1,akg_c:1,h_c:1,nadph_c:1,nh4_c:1})"
   ]
  },
  {
   "cell_type": "code",
   "execution_count": 368,
   "metadata": {},
   "outputs": [],
   "source": [
    "#25                  Pentose Phosphate Pathway"
   ]
  },
  {
   "cell_type": "code",
   "execution_count": 369,
   "metadata": {},
   "outputs": [],
   "source": [
    "GND=Reaction('GND')########## 6pgc_c + nadp_c ⇌ co2_c + nadph_c + ru5p__D_c\n",
    "GND.name='Phosphogluconate dehydrogenase'\n",
    "GND.lower_bound=0\n",
    "GND.upper_bound=1000"
   ]
  },
  {
   "cell_type": "code",
   "execution_count": 370,
   "metadata": {},
   "outputs": [],
   "source": [
    "GND.add_metabolites({_6pgc_c:-1,nadp_c:-1,co2_c:1,nadph_c:1,ru5p__D_c:1})"
   ]
  },
  {
   "cell_type": "code",
   "execution_count": 371,
   "metadata": {},
   "outputs": [],
   "source": [
    "#26                  Transport, Extracellular"
   ]
  },
  {
   "cell_type": "code",
   "execution_count": 372,
   "metadata": {},
   "outputs": [],
   "source": [
    "H2Ot=Reaction('H2Ot')########## h2o_e ⇌ h2o_c\n",
    "H2Ot.name='H2O transport via diffusion'\n",
    "H2Ot.lower_bound=-1000\n",
    "H2Ot.upper_bound=1000"
   ]
  },
  {
   "cell_type": "code",
   "execution_count": 373,
   "metadata": {},
   "outputs": [],
   "source": [
    "H2Ot.add_metabolites({h2o_e:-1,h2o_c:1})"
   ]
  },
  {
   "cell_type": "code",
   "execution_count": 374,
   "metadata": {},
   "outputs": [],
   "source": [
    "#27                    Citric Acid Cycle"
   ]
  },
  {
   "cell_type": "code",
   "execution_count": 375,
   "metadata": {},
   "outputs": [],
   "source": [
    "ICDHyr=Reaction('ICDHyr')########## icit_c + nadp_c ⇌ akg_c + co2_c + nadph_c\n",
    "ICDHyr.name='Isocitrate dehydrogenase (NADP)'\n",
    "ICDHyr.lower_bound=-1000\n",
    "ICDHyr.upper_bound=1000"
   ]
  },
  {
   "cell_type": "code",
   "execution_count": 376,
   "metadata": {},
   "outputs": [],
   "source": [
    "ICDHyr.add_metabolites({icit_c:-1,nadp_c:-1,akg_c:1,co2_c:1,nadph_c:1})"
   ]
  },
  {
   "cell_type": "code",
   "execution_count": 377,
   "metadata": {},
   "outputs": [],
   "source": [
    "#28              Citric Acid Cycle"
   ]
  },
  {
   "cell_type": "code",
   "execution_count": 378,
   "metadata": {},
   "outputs": [],
   "source": [
    "MDH=Reaction('MDH')########## mal__L_c + nad_c ⇌ h_c + nadh_c + oaa_c\n",
    "MDH.name='Malate dehydrogenase'\n",
    "MDH.lower_bound=-1000\n",
    "MDH.upper_bound=1000"
   ]
  },
  {
   "cell_type": "code",
   "execution_count": 379,
   "metadata": {},
   "outputs": [],
   "source": [
    "MDH.add_metabolites({mal__L_c:-1,nad_c:-1,h_c:1,nadh_c:1,oaa_c:1})"
   ]
  },
  {
   "cell_type": "code",
   "execution_count": 380,
   "metadata": {},
   "outputs": [],
   "source": [
    "#29              Oxidative Phosphorylation"
   ]
  },
  {
   "cell_type": "code",
   "execution_count": 381,
   "metadata": {},
   "outputs": [],
   "source": [
    "NADH16=Reaction('NADH16')########## 4.0 h_c + nadh_c + q8_c ⇌ nad_c + q8h2_c + 3.0 h_e\n",
    "NADH16.name='NADH dehydrogenase (ubiquinone-8 & 3 protons)'\n",
    "NADH16.lower_bound=0\n",
    "NADH16.upper_bound=1000"
   ]
  },
  {
   "cell_type": "code",
   "execution_count": 382,
   "metadata": {},
   "outputs": [],
   "source": [
    "NADH16.add_metabolites({h_c:-4,nadh_c:-1,q8_c:-1,nad_c:1,q8h2_c:1,h_e:3})"
   ]
  },
  {
   "cell_type": "code",
   "execution_count": 383,
   "metadata": {},
   "outputs": [],
   "source": [
    "#30                Inorganic Ion Transport and Metabolism"
   ]
  },
  {
   "cell_type": "code",
   "execution_count": 384,
   "metadata": {},
   "outputs": [],
   "source": [
    "NH4t=Reaction('NH4t')########## nh4_e ⇌ nh4_c\n",
    "NH4t.name='Ammonia reversible transport'\n",
    "NH4t.lower_bound=-1000\n",
    "NH4t.upper_bound=1000"
   ]
  },
  {
   "cell_type": "code",
   "execution_count": 385,
   "metadata": {},
   "outputs": [],
   "source": [
    "\n",
    "NH4t.add_metabolites({nh4_e:-1,nh4_c:1})"
   ]
  },
  {
   "cell_type": "code",
   "execution_count": 386,
   "metadata": {},
   "outputs": [],
   "source": [
    "#31               Transport, Extracellular"
   ]
  },
  {
   "cell_type": "code",
   "execution_count": 387,
   "metadata": {},
   "outputs": [],
   "source": [
    "O2t=Reaction('O2t')########## o2_e ⇌ o2_c\n",
    "O2t.name='O2 transport  diffusion'\n",
    "O2t.lower_bound=-1000\n",
    "O2t.upper_bound=1000"
   ]
  },
  {
   "cell_type": "code",
   "execution_count": 388,
   "metadata": {},
   "outputs": [],
   "source": [
    "O2t.add_metabolites({o2_e:-1,o2_c:1})"
   ]
  },
  {
   "cell_type": "code",
   "execution_count": 389,
   "metadata": {},
   "outputs": [],
   "source": [
    "#32              Glycolysis/Gluconeogenesis"
   ]
  },
  {
   "cell_type": "code",
   "execution_count": 390,
   "metadata": {},
   "outputs": [],
   "source": [
    "PDH=Reaction('PDH')########## coa_c + nad_c + pyr_c ⇌ accoa_c + co2_c + nadh_c\n",
    "PDH.name='Pyruvate dehydrogenase'\n",
    "PDH.lower_bound=0\n",
    "PDH.upper_bound=1000"
   ]
  },
  {
   "cell_type": "code",
   "execution_count": 391,
   "metadata": {},
   "outputs": [],
   "source": [
    "PDH.add_metabolites({coa_c:-1,nad_c:-1,pyr_c:-1,accoa_c:1,co2_c:1,nadh_c:1})"
   ]
  },
  {
   "cell_type": "code",
   "execution_count": 392,
   "metadata": {},
   "outputs": [],
   "source": [
    "#33                  Glycolysis/Gluconeogenesis"
   ]
  },
  {
   "cell_type": "code",
   "execution_count": 393,
   "metadata": {},
   "outputs": [],
   "source": [
    "PFK=Reaction('PFK')########## F6P + ATP ========> FDP + ADP + H\n",
    "PFK.name='Phosphofructokinase'\n",
    "PFK.lower_bound=0\n",
    "PFK.upper_bound=1000"
   ]
  },
  {
   "cell_type": "code",
   "execution_count": 394,
   "metadata": {},
   "outputs": [],
   "source": [
    "PFK.add_metabolites({atp_c:-1,f6p_c:-1,adp_c:1,fdp_c:1,h_c:1})"
   ]
  },
  {
   "cell_type": "code",
   "execution_count": 395,
   "metadata": {},
   "outputs": [],
   "source": [
    "#34                 Glycolysis/Gluconeogenesis"
   ]
  },
  {
   "cell_type": "code",
   "execution_count": 396,
   "metadata": {},
   "outputs": [],
   "source": [
    "PGI=Reaction('PGI')########## G6P <===========> F6P\n",
    "PGI.name='Glucose 6-phosphate isomerase'\n",
    "PGI.lower_bound=-1000\n",
    "PGI.upper_bound=1000"
   ]
  },
  {
   "cell_type": "code",
   "execution_count": 397,
   "metadata": {},
   "outputs": [],
   "source": [
    "PGI.add_metabolites({g6p_c:-1,f6p_c:1})"
   ]
  },
  {
   "cell_type": "code",
   "execution_count": 398,
   "metadata": {},
   "outputs": [],
   "source": [
    "#35                   Glycolysis/Gluconeogenesis"
   ]
  },
  {
   "cell_type": "code",
   "execution_count": 399,
   "metadata": {},
   "outputs": [],
   "source": [
    "PGK=Reaction('PGK')########## DPG13 + ADP <=============> PG3 + ATP\n",
    "PGK.name='Phosphoglycerate kinase'\n",
    "PGK.lower_bound=-1000\n",
    "PGK.upper_bound=1000"
   ]
  },
  {
   "cell_type": "code",
   "execution_count": 400,
   "metadata": {},
   "outputs": [],
   "source": [
    "PGK.add_metabolites({_3pg_c:-1,atp_c:-1,_13dpg_c:1,adp_c:1})"
   ]
  },
  {
   "cell_type": "code",
   "execution_count": 401,
   "metadata": {},
   "outputs": [],
   "source": [
    "#36                      Pentose Phosphate Pathway"
   ]
  },
  {
   "cell_type": "code",
   "execution_count": 402,
   "metadata": {},
   "outputs": [],
   "source": [
    "PGL=Reaction('PGL')########## 6pgl_c + h2o_c ⇌ 6pgc_c + h_c\n",
    "PGL.name='6-phosphogluconolactonase'\n",
    "PGL.lower_bound=0\n",
    "PGL.upper_bound=1000"
   ]
  },
  {
   "cell_type": "code",
   "execution_count": 403,
   "metadata": {},
   "outputs": [],
   "source": [
    "PGL.add_metabolites({_6pgl_c:-1,h2o_c:-1,_6pgc_c:1,h_c:1})"
   ]
  },
  {
   "cell_type": "code",
   "execution_count": 404,
   "metadata": {},
   "outputs": [],
   "source": [
    "#37                    Glycolysis/Gluconeogenesis"
   ]
  },
  {
   "cell_type": "code",
   "execution_count": 405,
   "metadata": {},
   "outputs": [],
   "source": [
    "PGM=Reaction('PGM')########## PG3 <===========> PG2\n",
    "PGM.name='Phosphoglycerate mutase'\n",
    "PGM.lower_bound=-1000\n",
    "PGM.upper_bound=1000"
   ]
  },
  {
   "cell_type": "code",
   "execution_count": 406,
   "metadata": {},
   "outputs": [],
   "source": [
    "PGM.add_metabolites({_2pg_c:-1,_3pg_c:1})"
   ]
  },
  {
   "cell_type": "code",
   "execution_count": 407,
   "metadata": {},
   "outputs": [],
   "source": [
    "#38                  Inorganic Ion Transport and Metabolism"
   ]
  },
  {
   "cell_type": "code",
   "execution_count": 408,
   "metadata": {},
   "outputs": [],
   "source": [
    "PIt2r=Reaction('PIt2r')########## h_e + pi_e ⇌ h_c + pi_c\n",
    "PIt2r.name='Phosphate reversible transport via symport'\n",
    "PIt2r.lower_bound=-1000\n",
    "PIt2r.upper_bound=1000"
   ]
  },
  {
   "cell_type": "code",
   "execution_count": 409,
   "metadata": {},
   "outputs": [],
   "source": [
    "PIt2r.add_metabolites({h_e:-1,pi_e:-1,h_c:1,pi_c:1})"
   ]
  },
  {
   "cell_type": "code",
   "execution_count": 410,
   "metadata": {},
   "outputs": [],
   "source": [
    "#39                  Anaplerotic reactions"
   ]
  },
  {
   "cell_type": "code",
   "execution_count": 411,
   "metadata": {},
   "outputs": [],
   "source": [
    "PPC=Reaction('PPC')########## co2_c + h2o_c + pep_c ⇌ h_c + oaa_c + pi_c\n",
    "PPC.name='Phosphoenolpyruvate carboxylase'\n",
    "PPC.lower_bound=0\n",
    "PPC.upper_bound=1000"
   ]
  },
  {
   "cell_type": "code",
   "execution_count": 412,
   "metadata": {},
   "outputs": [],
   "source": [
    "PPC.add_metabolites({co2_c:-1,h2o_c:-1,pep_c:-1,h_c:1,oaa_c:1,pi_c:1})"
   ]
  },
  {
   "cell_type": "code",
   "execution_count": 413,
   "metadata": {},
   "outputs": [],
   "source": [
    "#40                     Glycolysis/Gluconeogenesis"
   ]
  },
  {
   "cell_type": "code",
   "execution_count": 414,
   "metadata": {},
   "outputs": [],
   "source": [
    "PYK=Reaction('PYK')########## PEP + ADP + H+ =======> PYR + ATP\n",
    "PYK.name='Pyruvate kinase'\n",
    "PYK.lower_bound=0\n",
    "PYK.upper_bound=1000"
   ]
  },
  {
   "cell_type": "code",
   "execution_count": 415,
   "metadata": {},
   "outputs": [],
   "source": [
    "PYK.add_metabolites({adp_c:-1,h_c:-1,pep_c:-1,atp_c:1,pyr_c:1})"
   ]
  },
  {
   "cell_type": "code",
   "execution_count": 416,
   "metadata": {},
   "outputs": [],
   "source": [
    "#41                Pentose Phosphate Pathway"
   ]
  },
  {
   "cell_type": "code",
   "execution_count": 417,
   "metadata": {},
   "outputs": [],
   "source": [
    "RPE=Reaction('RPE')########## ru5p__D_c ⇌ xu5p__D_c\n",
    "RPE.name='Ribulose 5-phosphate 3-epimerase'\n",
    "RPE.lower_bound=-1000\n",
    "RPE.upper_bound=1000"
   ]
  },
  {
   "cell_type": "code",
   "execution_count": 418,
   "metadata": {},
   "outputs": [],
   "source": [
    "RPE.add_metabolites({ru5p__D_c:-1,xu5p__D_c:1})"
   ]
  },
  {
   "cell_type": "code",
   "execution_count": 419,
   "metadata": {},
   "outputs": [],
   "source": [
    "#42                     Pentose Phosphate Pathway"
   ]
  },
  {
   "cell_type": "code",
   "execution_count": 420,
   "metadata": {},
   "outputs": [],
   "source": [
    "RPI=Reaction('RPI')########## r5p_c ⇌ ru5p__D_c\n",
    "RPI.name='Ribose-5-phosphate isomerase'\n",
    "RPI.lower_bound=-1000\n",
    "RPI.upper_bound=1000"
   ]
  },
  {
   "cell_type": "code",
   "execution_count": 421,
   "metadata": {},
   "outputs": [],
   "source": [
    "RPI.add_metabolites({r5p_c:-1,ru5p__D_c:1})"
   ]
  },
  {
   "cell_type": "code",
   "execution_count": 422,
   "metadata": {},
   "outputs": [],
   "source": [
    "#43                    Oxidative Phosphorylation"
   ]
  },
  {
   "cell_type": "code",
   "execution_count": 423,
   "metadata": {},
   "outputs": [],
   "source": [
    "SUCDi=Reaction('SUCDi')########## q8_c + succ_c ⇌ fum_c + q8h2_c\n",
    "SUCDi.name='Succinate dehydrogenase (irreversible)'\n",
    "SUCDi.lower_bound=0\n",
    "SUCDi.upper_bound=1000"
   ]
  },
  {
   "cell_type": "code",
   "execution_count": 424,
   "metadata": {},
   "outputs": [],
   "source": [
    "SUCDi.add_metabolites({q8_c:-1,succ_c:-1,fum_c:1,q8h2_c:1})"
   ]
  },
  {
   "cell_type": "code",
   "execution_count": 425,
   "metadata": {},
   "outputs": [],
   "source": [
    "#44                           Citric Acid Cycle"
   ]
  },
  {
   "cell_type": "code",
   "execution_count": 426,
   "metadata": {},
   "outputs": [],
   "source": [
    "SUCOAS=Reaction('SUCOAS')########## atp_c + coa_c + succ_c ⇌ adp_c + pi_c + succoa_c\n",
    "SUCOAS.name='Succinyl-CoA synthetase (ADP-forming)'\n",
    "SUCOAS.lower_bound=-1000\n",
    "SUCOAS.upper_bound=1000"
   ]
  },
  {
   "cell_type": "code",
   "execution_count": 427,
   "metadata": {},
   "outputs": [],
   "source": [
    "SUCOAS.add_metabolites({atp_c:-1,coa_c:-1,succ_c:-1,adp_c:1,pi_c:1,succoa_c:1})"
   ]
  },
  {
   "cell_type": "code",
   "execution_count": 428,
   "metadata": {},
   "outputs": [],
   "source": [
    "#45                      Pentose Phosphate Pathway"
   ]
  },
  {
   "cell_type": "code",
   "execution_count": 429,
   "metadata": {},
   "outputs": [],
   "source": [
    "TALA=Reaction('TALA')########## g3p_c + s7p_c ⇌ e4p_c + f6p_c\n",
    "TALA.name='Transaldolase'\n",
    "TALA.lower_bound=-1000\n",
    "TALA.upper_bound=1000"
   ]
  },
  {
   "cell_type": "code",
   "execution_count": 430,
   "metadata": {},
   "outputs": [],
   "source": [
    "TALA.add_metabolites({g3p_c:-1,s7p_c:-1,e4p_c:1,f6p_c:1})"
   ]
  },
  {
   "cell_type": "code",
   "execution_count": 431,
   "metadata": {},
   "outputs": [],
   "source": [
    "#46                       Pentose Phosphate Pathway"
   ]
  },
  {
   "cell_type": "code",
   "execution_count": 432,
   "metadata": {},
   "outputs": [],
   "source": [
    "TKT1=Reaction('TKT1')########## r5p_c + xu5p__D_c ⇌ g3p_c + s7p_c\n",
    "TKT1.name='Transketolase'\n",
    "TKT1.lower_bound=-1000\n",
    "TKT1.upper_bound=1000"
   ]
  },
  {
   "cell_type": "code",
   "execution_count": 433,
   "metadata": {},
   "outputs": [],
   "source": [
    "TKT1.add_metabolites({r5p_c:-1,xu5p__D_c:-1,g3p_c:1,s7p_c:1})"
   ]
  },
  {
   "cell_type": "code",
   "execution_count": 434,
   "metadata": {},
   "outputs": [],
   "source": [
    "#47                           Pentose Phosphate Pathway"
   ]
  },
  {
   "cell_type": "code",
   "execution_count": 435,
   "metadata": {},
   "outputs": [],
   "source": [
    "TKT2=Reaction('TKT2')########## e4p_c + xu5p__D_c ⇌ f6p_c + g3p_c\n",
    "TKT2.name='Transketolase'\n",
    "TKT2.lower_bound=-1000\n",
    "TKT2.upper_bound=1000"
   ]
  },
  {
   "cell_type": "code",
   "execution_count": 436,
   "metadata": {},
   "outputs": [],
   "source": [
    "TKT2.add_metabolites({e4p_c:-1,xu5p__D_c:-1,f6p_c:1,g3p_c:1})"
   ]
  },
  {
   "cell_type": "code",
   "execution_count": 437,
   "metadata": {},
   "outputs": [],
   "source": [
    "#48                          Glycolysis/Gluconeogenesis"
   ]
  },
  {
   "cell_type": "code",
   "execution_count": 438,
   "metadata": {},
   "outputs": [],
   "source": [
    "TPI=Reaction('TPI')########## dhap_c ⇌ g3p_c\n",
    "TPI.name='Triose-phosphate isomerase'\n",
    "TPI.lower_bound=-1000\n",
    "TPI.upper_bound=1000"
   ]
  },
  {
   "cell_type": "code",
   "execution_count": 439,
   "metadata": {},
   "outputs": [],
   "source": [
    "TPI.add_metabolites({dhap_c:-1,g3p_c:1})"
   ]
  },
  {
   "cell_type": "code",
   "execution_count": 440,
   "metadata": {},
   "outputs": [],
   "source": [
    "model.add_reactions({ACONTa,ACONTb,AKGDH,ATPM,ATPS4r,BIOMASS_Ecoli,CO2t,CS,CYTBD,ENO,EX_co2,EX_glc_D,EX_h,EX_h2o,EX_nh4,EX_o2,EX_pi,FBA,FUM,G6PDH2r,GAPD,GLCpts,GLNS,GLUDy,GND,H2Ot,ICDHyr,MDH,NADH16,NH4t,O2t,PDH,PFK,PGI,PGK,PGL,PGM,PIt2r,PPC,PYK,RPE,RPI,SUCDi,SUCOAS,TALA,TKT1,TKT2,TPI})"
   ]
  },
  {
   "cell_type": "code",
   "execution_count": 441,
   "metadata": {},
   "outputs": [],
   "source": [
    "model.objective='BIOMASS_Ecoli'"
   ]
  },
  {
   "cell_type": "code",
   "execution_count": 442,
   "metadata": {},
   "outputs": [
    {
     "data": {
      "text/html": [
       "<strong><em>Optimal</em> solution with objective value 0.874</strong><br><div>\n",
       "<style scoped>\n",
       "    .dataframe tbody tr th:only-of-type {\n",
       "        vertical-align: middle;\n",
       "    }\n",
       "\n",
       "    .dataframe tbody tr th {\n",
       "        vertical-align: top;\n",
       "    }\n",
       "\n",
       "    .dataframe thead th {\n",
       "        text-align: right;\n",
       "    }\n",
       "</style>\n",
       "<table border=\"1\" class=\"dataframe\">\n",
       "  <thead>\n",
       "    <tr style=\"text-align: right;\">\n",
       "      <th></th>\n",
       "      <th>fluxes</th>\n",
       "      <th>reduced_costs</th>\n",
       "    </tr>\n",
       "  </thead>\n",
       "  <tbody>\n",
       "    <tr>\n",
       "      <th>RPE</th>\n",
       "      <td>2.678482</td>\n",
       "      <td>1.110223e-16</td>\n",
       "    </tr>\n",
       "    <tr>\n",
       "      <th>NH4t</th>\n",
       "      <td>4.765319</td>\n",
       "      <td>0.000000e+00</td>\n",
       "    </tr>\n",
       "    <tr>\n",
       "      <th>PGI</th>\n",
       "      <td>4.860861</td>\n",
       "      <td>-2.775558e-17</td>\n",
       "    </tr>\n",
       "    <tr>\n",
       "      <th>ACONTb</th>\n",
       "      <td>6.007250</td>\n",
       "      <td>-4.163336e-17</td>\n",
       "    </tr>\n",
       "    <tr>\n",
       "      <th>PDH</th>\n",
       "      <td>9.282533</td>\n",
       "      <td>0.000000e+00</td>\n",
       "    </tr>\n",
       "    <tr>\n",
       "      <th>...</th>\n",
       "      <td>...</td>\n",
       "      <td>...</td>\n",
       "    </tr>\n",
       "    <tr>\n",
       "      <th>GAPD</th>\n",
       "      <td>16.023526</td>\n",
       "      <td>8.673617e-19</td>\n",
       "    </tr>\n",
       "    <tr>\n",
       "      <th>CYTBD</th>\n",
       "      <td>43.598985</td>\n",
       "      <td>-1.084202e-19</td>\n",
       "    </tr>\n",
       "    <tr>\n",
       "      <th>EX_h</th>\n",
       "      <td>17.530865</td>\n",
       "      <td>-4.336809e-19</td>\n",
       "    </tr>\n",
       "    <tr>\n",
       "      <th>TALA</th>\n",
       "      <td>1.496984</td>\n",
       "      <td>-4.440892e-16</td>\n",
       "    </tr>\n",
       "    <tr>\n",
       "      <th>MDH</th>\n",
       "      <td>5.064376</td>\n",
       "      <td>3.469447e-18</td>\n",
       "    </tr>\n",
       "  </tbody>\n",
       "</table>\n",
       "<p>48 rows × 2 columns</p>\n",
       "</div>"
      ],
      "text/plain": [
       "<Solution 0.874 at 0x18d846b49d0>"
      ]
     },
     "execution_count": 442,
     "metadata": {},
     "output_type": "execute_result"
    }
   ],
   "source": [
    "model.optimize()"
   ]
  },
  {
   "cell_type": "code",
   "execution_count": 443,
   "metadata": {},
   "outputs": [
    {
     "data": {
      "text/html": [
       "<h3>Objective</h3><p>1.0 BIOMASS_Ecoli = 0.873921506968432</p><h4>Uptake</h4><table border=\"1\" class=\"dataframe\">\n",
       "  <thead>\n",
       "    <tr style=\"text-align: right;\">\n",
       "      <th>Metabolite</th>\n",
       "      <th>Reaction</th>\n",
       "      <th>Flux</th>\n",
       "      <th>C-Number</th>\n",
       "      <th>C-Flux</th>\n",
       "    </tr>\n",
       "  </thead>\n",
       "  <tbody>\n",
       "    <tr>\n",
       "      <td>glc__D_e</td>\n",
       "      <td>EX_glc_D</td>\n",
       "      <td>10</td>\n",
       "      <td>6</td>\n",
       "      <td>100.00%</td>\n",
       "    </tr>\n",
       "    <tr>\n",
       "      <td>nh4_e</td>\n",
       "      <td>EX_nh4</td>\n",
       "      <td>4.765</td>\n",
       "      <td>0</td>\n",
       "      <td>0.00%</td>\n",
       "    </tr>\n",
       "    <tr>\n",
       "      <td>o2_e</td>\n",
       "      <td>EX_o2</td>\n",
       "      <td>21.8</td>\n",
       "      <td>0</td>\n",
       "      <td>0.00%</td>\n",
       "    </tr>\n",
       "    <tr>\n",
       "      <td>pi_e</td>\n",
       "      <td>EX_pi</td>\n",
       "      <td>3.215</td>\n",
       "      <td>0</td>\n",
       "      <td>0.00%</td>\n",
       "    </tr>\n",
       "  </tbody>\n",
       "</table><h4>Secretion</h4><table border=\"1\" class=\"dataframe\">\n",
       "  <thead>\n",
       "    <tr style=\"text-align: right;\">\n",
       "      <th>Metabolite</th>\n",
       "      <th>Reaction</th>\n",
       "      <th>Flux</th>\n",
       "      <th>C-Number</th>\n",
       "      <th>C-Flux</th>\n",
       "    </tr>\n",
       "  </thead>\n",
       "  <tbody>\n",
       "    <tr>\n",
       "      <td>co2_e</td>\n",
       "      <td>EX_co2</td>\n",
       "      <td>-22.81</td>\n",
       "      <td>1</td>\n",
       "      <td>100.00%</td>\n",
       "    </tr>\n",
       "    <tr>\n",
       "      <td>h_e</td>\n",
       "      <td>EX_h</td>\n",
       "      <td>-17.53</td>\n",
       "      <td>0</td>\n",
       "      <td>0.00%</td>\n",
       "    </tr>\n",
       "    <tr>\n",
       "      <td>h2o_e</td>\n",
       "      <td>EX_h2o</td>\n",
       "      <td>-29.18</td>\n",
       "      <td>0</td>\n",
       "      <td>0.00%</td>\n",
       "    </tr>\n",
       "  </tbody>\n",
       "</table>"
      ],
      "text/plain": [
       "<cobra.summary.model_summary.ModelSummary at 0x18d8469c3d0>"
      ]
     },
     "execution_count": 443,
     "metadata": {},
     "output_type": "execute_result"
    }
   ],
   "source": [
    "model.summary()"
   ]
  },
  {
   "cell_type": "code",
   "execution_count": 444,
   "metadata": {},
   "outputs": [
    {
     "data": {
      "text/plain": [
       "RPE               2.678482\n",
       "NH4t              4.765319\n",
       "PGI               4.860861\n",
       "ACONTb            6.007250\n",
       "PDH               9.282533\n",
       "GLNS              0.223462\n",
       "GND               4.959985\n",
       "GLCpts           10.000000\n",
       "ICDHyr            6.007250\n",
       "EX_pi            -3.214895\n",
       "PGL               4.959985\n",
       "NADH16           38.534610\n",
       "ATPM              8.390000\n",
       "TKT2              1.181498\n",
       "H2Ot            -29.175827\n",
       "FBA               7.477382\n",
       "SUCDi             5.064376\n",
       "TKT1              1.496984\n",
       "ATPS4r           45.514010\n",
       "ENO              14.716140\n",
       "PIt2r             3.214895\n",
       "TPI               7.477382\n",
       "CO2t            -22.809833\n",
       "BIOMASS_Ecoli     0.873922\n",
       "EX_glc_D        -10.000000\n",
       "EX_co2           22.809833\n",
       "EX_o2           -21.799493\n",
       "O2t              21.799493\n",
       "PPC               2.504309\n",
       "PYK               1.758177\n",
       "CS                6.007250\n",
       "PGM             -14.716140\n",
       "PFK               7.477382\n",
       "G6PDH2r           4.959985\n",
       "AKGDH             5.064376\n",
       "GLUDy            -4.541857\n",
       "RPI              -2.281503\n",
       "FUM               5.064376\n",
       "PGK             -16.023526\n",
       "ACONTa            6.007250\n",
       "EX_h2o           29.175827\n",
       "EX_nh4           -4.765319\n",
       "SUCOAS           -5.064376\n",
       "GAPD             16.023526\n",
       "CYTBD            43.598985\n",
       "EX_h             17.530865\n",
       "TALA              1.496984\n",
       "MDH               5.064376\n",
       "Name: fluxes, dtype: float64"
      ]
     },
     "execution_count": 444,
     "metadata": {},
     "output_type": "execute_result"
    }
   ],
   "source": [
    "model.optimize().fluxes"
   ]
  },
  {
   "cell_type": "code",
   "execution_count": 445,
   "metadata": {},
   "outputs": [],
   "source": [
    "import cobra\n",
    "cobra.io.save_json_model(model,\"Pathways.json\")"
   ]
  },
  {
   "cell_type": "code",
   "execution_count": 1,
   "metadata": {},
   "outputs": [],
   "source": [
    "import escher"
   ]
  },
  {
   "cell_type": "code",
   "execution_count": 2,
   "metadata": {},
   "outputs": [],
   "source": [
    "from escher import Builder"
   ]
  },
  {
   "cell_type": "code",
   "execution_count": 3,
   "metadata": {},
   "outputs": [],
   "source": [
    "builder=Builder()"
   ]
  },
  {
   "cell_type": "code",
   "execution_count": null,
   "metadata": {},
   "outputs": [],
   "source": [
    "builder"
   ]
  },
  {
   "cell_type": "code",
   "execution_count": 461,
   "metadata": {},
   "outputs": [],
   "source": [
    "s=model.optimize()"
   ]
  },
  {
   "cell_type": "code",
   "execution_count": 462,
   "metadata": {},
   "outputs": [],
   "source": [
    "builder.reaction_no_data=s.fluxes"
   ]
  },
  {
   "cell_type": "code",
   "execution_count": 463,
   "metadata": {},
   "outputs": [
    {
     "data": {
      "text/plain": [
       "RPE               2.678482\n",
       "NH4t              4.765319\n",
       "PGI               4.860861\n",
       "ACONTb            6.007250\n",
       "PDH               9.282533\n",
       "GLNS              0.223462\n",
       "GND               4.959985\n",
       "GLCpts           10.000000\n",
       "ICDHyr            6.007250\n",
       "EX_pi            -3.214895\n",
       "PGL               4.959985\n",
       "NADH16           38.534610\n",
       "ATPM              8.390000\n",
       "TKT2              1.181498\n",
       "H2Ot            -29.175827\n",
       "FBA               7.477382\n",
       "SUCDi             5.064376\n",
       "TKT1              1.496984\n",
       "ATPS4r           45.514010\n",
       "ENO              14.716140\n",
       "PIt2r             3.214895\n",
       "TPI               7.477382\n",
       "CO2t            -22.809833\n",
       "BIOMASS_Ecoli     0.873922\n",
       "EX_glc_D        -10.000000\n",
       "EX_co2           22.809833\n",
       "EX_o2           -21.799493\n",
       "O2t              21.799493\n",
       "PPC               2.504309\n",
       "PYK               1.758177\n",
       "CS                6.007250\n",
       "PGM             -14.716140\n",
       "PFK               7.477382\n",
       "G6PDH2r           4.959985\n",
       "AKGDH             5.064376\n",
       "GLUDy            -4.541857\n",
       "RPI              -2.281503\n",
       "FUM               5.064376\n",
       "PGK             -16.023526\n",
       "ACONTa            6.007250\n",
       "EX_h2o           29.175827\n",
       "EX_nh4           -4.765319\n",
       "SUCOAS           -5.064376\n",
       "GAPD             16.023526\n",
       "CYTBD            43.598985\n",
       "EX_h             17.530865\n",
       "TALA              1.496984\n",
       "MDH               5.064376\n",
       "Name: fluxes, dtype: float64"
      ]
     },
     "execution_count": 463,
     "metadata": {},
     "output_type": "execute_result"
    }
   ],
   "source": [
    "s.fluxes"
   ]
  }
 ],
 "metadata": {
  "interpreter": {
   "hash": "f032a7ad5a399a934229c5436f231f7d2f55d44253cb7c4e72d70fe3a75688c2"
  },
  "kernelspec": {
   "display_name": "Python 3.9.4 64-bit",
   "language": "python",
   "name": "python3"
  },
  "language_info": {
   "codemirror_mode": {
    "name": "ipython",
    "version": 3
   },
   "file_extension": ".py",
   "mimetype": "text/x-python",
   "name": "python",
   "nbconvert_exporter": "python",
   "pygments_lexer": "ipython3",
   "version": "3.9.4"
  },
  "orig_nbformat": 4
 },
 "nbformat": 4,
 "nbformat_minor": 2
}
